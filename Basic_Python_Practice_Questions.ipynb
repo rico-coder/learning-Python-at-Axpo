{
 "cells": [
  {
   "cell_type": "markdown",
   "id": "08b6c2ab",
   "metadata": {},
   "source": [
    "# Basic Python Practice Questions\n",
    "\n",
    "Welcome to your Python practice notebook! This notebook is designed to help you sharpen your programming skills by working through a series of basic Python questions. Whether you're just starting out or looking to improve your coding abilities, these exercises will provide you with the fundamental knowledge you need.\n",
    "\n",
    "In this notebook, you'll find questions covering key Python topics such as:\n",
    "\n",
    "1. **Print Statements**: Learn how to display text and data on the screen.\n",
    "2. **Basic Arithmetic**: Practice performing simple mathematical operations like addition, subtraction, multiplication, and division.\n",
    "3. **List Comprehensions**: Discover how to create and manipulate lists in a concise and efficient manner.\n",
    "4. **Loops**: Understand how to use loops to repeat actions and process data multiple times.\n",
    "\n",
    "Each section contains a series of questions that will challenge you to apply what you've learned and think critically about how to solve problems using Python. Don't worry if you find some questions tricky at first—practice is the key to improvement!\n",
    "\n",
    "Remember, programming is all about experimenting and learning from your mistakes. Take your time, try out different solutions, and most importantly, have fun with the process. Happy coding!"
   ]
  },
  {
   "cell_type": "markdown",
   "id": "923fd5d8",
   "metadata": {},
   "source": [
    "### 1. Write a Python program to print the following string in a specific format (see the output)."
   ]
  },
  {
   "cell_type": "code",
   "execution_count": null,
   "id": "e6579a05",
   "metadata": {},
   "outputs": [
    {
     "name": "stdout",
     "output_type": "stream",
     "text": [
      "Hello world!\n",
      "Hello world!\n"
     ]
    }
   ],
   "source": [
    "# Your code here\n",
    "print (\"Hello world!\")\n",
    "x = \"Hello \"\n",
    "y = \"world\"\n",
    "z = \"!\"\n",
    "print(x + y + z)\n"
   ]
  },
  {
   "cell_type": "markdown",
   "id": "0ec3776c",
   "metadata": {},
   "source": [
    "### 2. Write a Python program to get the Python version you are using."
   ]
  },
  {
   "cell_type": "code",
   "execution_count": 1,
   "id": "577fb279",
   "metadata": {},
   "outputs": [
    {
     "name": "stdout",
     "output_type": "stream",
     "text": [
      "Python version\n",
      "3.11.5 (v3.11.5:cce6ba91b3, Aug 24 2023, 10:50:31) [Clang 13.0.0 (clang-1300.0.29.30)]\n",
      "Version info.\n",
      "sys.version_info(major=3, minor=11, micro=5, releaselevel='final', serial=0)\n"
     ]
    }
   ],
   "source": [
    "# Your code here\n",
    "import sys\n",
    "print(\"Python version\")\n",
    "print (sys.version)\n",
    "print(\"Version info.\")\n",
    "print (sys.version_info)"
   ]
  },
  {
   "cell_type": "markdown",
   "id": "41221241",
   "metadata": {},
   "source": [
    "### 3. Write a Python program to display the current date and time."
   ]
  },
  {
   "cell_type": "code",
   "execution_count": 2,
   "id": "5f6203c0",
   "metadata": {},
   "outputs": [
    {
     "name": "stdout",
     "output_type": "stream",
     "text": [
      "Current date and time : \n",
      "2024-07-18 16:15:21\n"
     ]
    }
   ],
   "source": [
    "# Your code here\n",
    "import datetime\n",
    "now = datetime.datetime.now()\n",
    "print (\"Current date and time : \")\n",
    "print (now.strftime(\"%Y-%m-%d %H:%M:%S\"))"
   ]
  },
  {
   "cell_type": "markdown",
   "id": "55d7f218",
   "metadata": {},
   "source": [
    "### 4. Write a Python program which accepts the radius of a circle from the user and compute the area."
   ]
  },
  {
   "cell_type": "code",
   "execution_count": 3,
   "id": "2f6e2348",
   "metadata": {},
   "outputs": [
    {
     "name": "stdout",
     "output_type": "stream",
     "text": [
      "The area of the circle with radius 1.1 is: 3.8013271108436504\n"
     ]
    }
   ],
   "source": [
    "# Your code here\n",
    "from math import pi\n",
    "r = float(input(\"Input the radius of the circle : \"))\n",
    "print (\"The area of the circle with radius \" + str(r) + \" is: \" + str(pi * r**2))"
   ]
  },
  {
   "cell_type": "markdown",
   "id": "88b5d516",
   "metadata": {},
   "source": [
    "### 5. Write a Python program which accepts the user's first and last name and print them in reverse order with a space between them."
   ]
  },
  {
   "cell_type": "code",
   "execution_count": 4,
   "id": "edb02528",
   "metadata": {},
   "outputs": [
    {
     "name": "stdout",
     "output_type": "stream",
     "text": [
      "Hello  Krenn Rico \n"
     ]
    }
   ],
   "source": [
    "# Your code here\n",
    "fname = input(\"Input your First Name : \")\n",
    "lname = input(\"Input your Last Name : \")\n",
    "print (\"Hello  \" + lname + \" \" + fname)"
   ]
  },
  {
   "cell_type": "markdown",
   "id": "69bd93e0",
   "metadata": {},
   "source": [
    "### 6. Write a Python program to accept a filename from the user and print the extension of that."
   ]
  },
  {
   "cell_type": "code",
   "execution_count": 5,
   "id": "349ac33c",
   "metadata": {},
   "outputs": [
    {
     "name": "stdout",
     "output_type": "stream",
     "text": [
      "The extension of the file is : 'Rico_code'\n"
     ]
    }
   ],
   "source": [
    "# Your code here\n",
    "filename = input(\"Input the Filename: \")\n",
    "f_extns = filename.split(\".\")\n",
    "print (\"The extension of the file is : \" + repr(f_extns[-1]))"
   ]
  },
  {
   "cell_type": "markdown",
   "id": "1e5b4037",
   "metadata": {},
   "source": [
    "### 7. Write a Python program to display the first and last colors from the following list. Go to the editor color_list = ['Red', 'Green', 'White', 'Black', 'Pink', 'Yellow']"
   ]
  },
  {
   "cell_type": "code",
   "execution_count": 6,
   "id": "30d071d8",
   "metadata": {},
   "outputs": [
    {
     "name": "stdout",
     "output_type": "stream",
     "text": [
      "Red Yellow\n"
     ]
    }
   ],
   "source": [
    "# Your code here\n",
    "color_list = [\"Red\",\"Green\",\"White\" ,\"Black\",\"Pink\",\"Yellow\"]\n",
    "print( \"%s %s\"%(color_list[0],color_list[-1]))"
   ]
  },
  {
   "cell_type": "markdown",
   "id": "07f1c5d7",
   "metadata": {},
   "source": [
    "### 8. Write a Python program to display the examination schedule. (extract the date from exam_st_date). exam_st_date = (11, 12, 2014)"
   ]
  },
  {
   "cell_type": "code",
   "execution_count": 7,
   "id": "720f3f82",
   "metadata": {},
   "outputs": [
    {
     "name": "stdout",
     "output_type": "stream",
     "text": [
      "The examination will start from : 11 / 12 / 2014\n",
      "Today's date is: 17, 7, 2024\n"
     ]
    }
   ],
   "source": [
    "# Your code here\n",
    "exam_st_date = (11, 12, 2014)\n",
    "print( \"The examination will start from : %i / %i / %i\"%exam_st_date)\n",
    "\n",
    "todays_date = (17, 7, 2024)\n",
    "print (\"Today's date is: %i, %i, %i\"%(todays_date))"
   ]
  },
  {
   "cell_type": "markdown",
   "id": "0c9fa130",
   "metadata": {},
   "source": [
    "### 9. Write a Python program that accepts an integer (n) and computes the value of n+nn+nnn."
   ]
  },
  {
   "cell_type": "code",
   "execution_count": 8,
   "id": "ea3744e7",
   "metadata": {},
   "outputs": [
    {
     "name": "stdout",
     "output_type": "stream",
     "text": [
      "246\n"
     ]
    }
   ],
   "source": [
    "# Your code here\n",
    "a = int(input(\"Input an integer : \"))\n",
    "n1 = int( \"%s\" % a )\n",
    "n2 = int( \"%s%s\" % (a,a) )\n",
    "n3 = int( \"%s%s%s\" % (a,a,a) )\n",
    "print (n1+n2+n3)"
   ]
  },
  {
   "cell_type": "markdown",
   "id": "288be20b",
   "metadata": {},
   "source": [
    "### 10. Write a Python program to print the calendar of a given month and year."
   ]
  },
  {
   "cell_type": "code",
   "execution_count": 15,
   "id": "62a16ed2",
   "metadata": {},
   "outputs": [
    {
     "name": "stdout",
     "output_type": "stream",
     "text": [
      "     July 2024\n",
      "Mo Tu We Th Fr Sa Su\n",
      " 1  2  3  4  5  6  7\n",
      " 8  9 10 11 12 13 14\n",
      "15 16 17 18 19 20 21\n",
      "22 23 24 25 26 27 28\n",
      "29 30 31\n",
      "\n"
     ]
    }
   ],
   "source": [
    "# Your code here\n",
    "import calendar\n",
    "y = int(input(\"Input the year : \"))\n",
    "m = int(input(\"Input the month : \"))\n",
    "print(calendar.month(y, m))"
   ]
  },
  {
   "cell_type": "markdown",
   "id": "885e118c",
   "metadata": {},
   "source": [
    "### 11. Write a Python program to print the following here document. Go to the editor Sample string : a string that you \"don't\" have to escape This is a string inside \"triple double quotes\"."
   ]
  },
  {
   "cell_type": "code",
   "execution_count": 16,
   "id": "e80c7778",
   "metadata": {},
   "outputs": [
    {
     "name": "stdout",
     "output_type": "stream",
     "text": [
      "\n",
      "a string that you \"don't\" have to escape\n",
      "This\n",
      "is a ....... multi-line\n",
      "heredoc string --------> example\n",
      "\n"
     ]
    }
   ],
   "source": [
    "# Your code here\n",
    "print(\"\"\"\n",
    "a string that you \"don't\" have to escape\n",
    "This\n",
    "is a ....... multi-line\n",
    "heredoc string --------> example\n",
    "\"\"\")"
   ]
  },
  {
   "cell_type": "markdown",
   "id": "475e6570",
   "metadata": {},
   "source": [
    "### 12. Write a Python program to calculate number of days between two dates."
   ]
  },
  {
   "cell_type": "code",
   "execution_count": 17,
   "id": "2c4d1a69",
   "metadata": {},
   "outputs": [
    {
     "name": "stdout",
     "output_type": "stream",
     "text": [
      "9\n"
     ]
    }
   ],
   "source": [
    "# Your code here\n",
    "from datetime import date\n",
    "f_date = date(2014, 7, 2)\n",
    "l_date = date(2014, 7, 11)\n",
    "delta = l_date - f_date\n",
    "print(delta.days)"
   ]
  },
  {
   "cell_type": "markdown",
   "id": "48ad3ee3",
   "metadata": {},
   "source": [
    "### 13. Write a Python program to get the volume of a sphere with radius 6."
   ]
  },
  {
   "cell_type": "code",
   "execution_count": 18,
   "id": "2e9ec328",
   "metadata": {},
   "outputs": [
    {
     "name": "stdout",
     "output_type": "stream",
     "text": [
      "The volume of the sphere is:  904.7786842338603\n"
     ]
    }
   ],
   "source": [
    "# Your code here\n",
    "pi = 3.1415926535897931\n",
    "r= 6\n",
    "V= 4.0/3.0*pi* r**3\n",
    "print('The volume of the sphere is: ',V)"
   ]
  },
  {
   "cell_type": "markdown",
   "id": "7ef0afc8",
   "metadata": {},
   "source": [
    "### 14. Write a Python program to get the difference between a given number and 17, if the number is greater than 17 return double the absolute difference."
   ]
  },
  {
   "cell_type": "code",
   "execution_count": 19,
   "id": "c8012c8d",
   "metadata": {},
   "outputs": [
    {
     "name": "stdout",
     "output_type": "stream",
     "text": [
      "10\n",
      "3\n"
     ]
    }
   ],
   "source": [
    "# Your code here\n",
    "def difference(n):\n",
    "    if n <= 17:\n",
    "        return 17 - n\n",
    "    else:\n",
    "        return (n - 17) * 2\n",
    "\n",
    "print(difference(22))\n",
    "print(difference(14))"
   ]
  },
  {
   "cell_type": "markdown",
   "id": "a28cfc54",
   "metadata": {},
   "source": [
    "### 15. Write a Python program to test whether a number is within 100 of 1000 or 2000."
   ]
  },
  {
   "cell_type": "code",
   "execution_count": 20,
   "id": "f4f37097",
   "metadata": {},
   "outputs": [
    {
     "name": "stdout",
     "output_type": "stream",
     "text": [
      "True\n",
      "True\n",
      "False\n",
      "False\n"
     ]
    }
   ],
   "source": [
    "# Your code here\n",
    "def near_thousand(n):\n",
    "    return ((abs(1000 - n) <= 100)  or (abs(2000 - n) <= 100))\n",
    "print(near_thousand(1000))\n",
    "print(near_thousand(900))\n",
    "print(near_thousand(800))\n",
    "print(near_thousand(2200))"
   ]
  },
  {
   "cell_type": "markdown",
   "id": "ddfea75d",
   "metadata": {},
   "source": [
    "### 16. Write a Python program to calculate the sum of three given numbers, if the values are equal then return three times of their sum."
   ]
  },
  {
   "cell_type": "code",
   "execution_count": 21,
   "id": "9aca9b2a",
   "metadata": {},
   "outputs": [
    {
     "name": "stdout",
     "output_type": "stream",
     "text": [
      "6\n",
      "27\n"
     ]
    }
   ],
   "source": [
    "# Your code here\n",
    "def sum_thrice(x, y, z):\n",
    "     sum = x + y + z\n",
    "    \n",
    "     if x == y == z:\n",
    "        sum = sum * 3\n",
    "     return sum\n",
    "\n",
    "print(sum_thrice(1, 2, 3))\n",
    "print(sum_thrice(3, 3, 3))"
   ]
  },
  {
   "cell_type": "markdown",
   "id": "4086b66c",
   "metadata": {},
   "source": [
    "### 17. Write a Python program to get a new string from a given string where \"Is\" has been added to the front. If the given string already begins with \"Is\" then return the string unchanged."
   ]
  },
  {
   "cell_type": "code",
   "execution_count": 22,
   "id": "b4d3a709",
   "metadata": {},
   "outputs": [
    {
     "name": "stdout",
     "output_type": "stream",
     "text": [
      "IsArray\n",
      "IsEmpty\n"
     ]
    }
   ],
   "source": [
    "# Your code here\n",
    "def new_string(str):\n",
    "  if len(str) >= 2 and str[:2] == \"Is\":\n",
    "    return str\n",
    "  return \"Is\" + str\n",
    "\n",
    "print(new_string(\"Array\"))\n",
    "print(new_string(\"IsEmpty\"))"
   ]
  },
  {
   "cell_type": "markdown",
   "id": "951dbc3f",
   "metadata": {},
   "source": [
    "### 18. Write a Python program to get a string which is n (non-negative integer) copies of a given string."
   ]
  },
  {
   "cell_type": "code",
   "execution_count": 23,
   "id": "1a9eb7f1",
   "metadata": {},
   "outputs": [
    {
     "name": "stdout",
     "output_type": "stream",
     "text": [
      "abcabc\n",
      ".py.py.py\n"
     ]
    }
   ],
   "source": [
    "# Your code here\n",
    "def larger_string(str, n):\n",
    "   result = \"\"\n",
    "   for i in range(n):\n",
    "      result = result + str\n",
    "   return result\n",
    "print(larger_string('abc', 2))\n",
    "print(larger_string('.py', 3))"
   ]
  },
  {
   "cell_type": "markdown",
   "id": "34a2876d",
   "metadata": {},
   "source": [
    "### 19. Write a Python program to determine whether a Python shell is executing in 32bit or 64bit mode on OS."
   ]
  },
  {
   "cell_type": "code",
   "execution_count": 24,
   "id": "45480b63",
   "metadata": {},
   "outputs": [
    {
     "name": "stdout",
     "output_type": "stream",
     "text": [
      "64\n"
     ]
    }
   ],
   "source": [
    "# Your code here\n",
    "import struct\n",
    "print(struct.calcsize(\"P\") * 8)"
   ]
  },
  {
   "cell_type": "markdown",
   "id": "a6041a53",
   "metadata": {},
   "source": [
    "### 20. Write a Python program to find whether a given number (accept from the user) is even or odd, print out an appropriate message to the user."
   ]
  },
  {
   "cell_type": "code",
   "execution_count": 26,
   "id": "caa153c0",
   "metadata": {},
   "outputs": [
    {
     "name": "stdout",
     "output_type": "stream",
     "text": [
      "4 is Even\n"
     ]
    }
   ],
   "source": [
    "# Your code here\n",
    "num = int(input(\"Enter a number: \"))\n",
    "if (num % 2) == 0:\n",
    "   print(\"{0} is Even\".format(num))\n",
    "else:\n",
    "   print(\"{0} is Odd\".format(num))"
   ]
  },
  {
   "cell_type": "markdown",
   "id": "55a1d4de",
   "metadata": {},
   "source": [
    "### 21. Write a Python program to count the number 4 in a given list."
   ]
  },
  {
   "cell_type": "code",
   "execution_count": 27,
   "id": "65ad41d8",
   "metadata": {},
   "outputs": [
    {
     "name": "stdout",
     "output_type": "stream",
     "text": [
      "2\n",
      "3\n",
      "2\n",
      "4\n"
     ]
    }
   ],
   "source": [
    "# Your code here\n",
    "def count_4(nums):\n",
    "  count = 0  \n",
    "  for num in nums:\n",
    "    if num == 4:\n",
    "      count = count + 1\n",
    "\n",
    "  return count\n",
    "\n",
    "def count_r(letters):\n",
    "  count = 0  \n",
    "  for letter in letters:\n",
    "    if letter == \"r\":\n",
    "      count = count + 1\n",
    "\n",
    "  return count\n",
    "\n",
    "print(count_4([1, 4, 6, 7, 4]))\n",
    "print(count_4([1, 4, 6, 4, 7, 4]))\n",
    "print(count_r([\"a\", \"r\", \"o\", \"t\", \"v\", \"r\"]))\n",
    "print(count_r([\"r\", \"r\", \"t\", \"c\", \"h\", \"r\", \"f\", \"r\"]))"
   ]
  },
  {
   "cell_type": "markdown",
   "id": "be0ea3be",
   "metadata": {},
   "source": [
    "### 22. Write a Python program to get the n (non-negative integer) copies of the first 2 characters of a given string. Return the n copies of the whole string if the length is less than 2."
   ]
  },
  {
   "cell_type": "code",
   "execution_count": 28,
   "id": "1fed6463",
   "metadata": {},
   "outputs": [
    {
     "name": "stdout",
     "output_type": "stream",
     "text": [
      "abab\n",
      "ppp\n"
     ]
    }
   ],
   "source": [
    "# Your code here\n",
    "def substring_copy(str, n):\n",
    "   flen = 2\n",
    "   if flen > len(str):\n",
    "      flen = len(str)\n",
    "   substr = str[:flen]\n",
    "   \n",
    "   result = \"\"\n",
    "   for i in range(n):\n",
    "      result = result + substr\n",
    "   return result\n",
    "\n",
    "print(substring_copy('abcdef', 2))\n",
    "print(substring_copy('p', 3));"
   ]
  },
  {
   "cell_type": "markdown",
   "id": "94e18119",
   "metadata": {},
   "source": [
    "### 23. Write a Python program to test whether a passed letter is a vowel or not."
   ]
  },
  {
   "cell_type": "code",
   "execution_count": 29,
   "id": "3edc0424",
   "metadata": {},
   "outputs": [
    {
     "name": "stdout",
     "output_type": "stream",
     "text": [
      "False\n",
      "True\n"
     ]
    }
   ],
   "source": [
    "# Your code here\n",
    "def is_vowel(char):\n",
    "    all_vowels = 'aeiou'\n",
    "    return char in all_vowels\n",
    "\n",
    "print(is_vowel('c'))\n",
    "print(is_vowel('e'))"
   ]
  },
  {
   "cell_type": "markdown",
   "id": "15e17c27",
   "metadata": {},
   "source": [
    "### 24. Write a Python program to check whether a specified value is contained in a group of values."
   ]
  },
  {
   "cell_type": "code",
   "execution_count": 30,
   "id": "69ad68a8",
   "metadata": {},
   "outputs": [
    {
     "name": "stdout",
     "output_type": "stream",
     "text": [
      "True\n",
      "False\n"
     ]
    }
   ],
   "source": [
    "# Your code here\n",
    "def is_group_member(group_data, n):\n",
    "   for value in group_data:\n",
    "       if n == value:\n",
    "           return True\n",
    "   return False\n",
    "\n",
    "print(is_group_member([1, 5, 8, 3], 3))\n",
    "print(is_group_member([5, 8, 3], 1))"
   ]
  },
  {
   "cell_type": "markdown",
   "id": "95cf3491",
   "metadata": {},
   "source": [
    "### 25. Write a Python program to create a histogram from a given list of integers."
   ]
  },
  {
   "cell_type": "code",
   "execution_count": 31,
   "id": "4e3a56ac",
   "metadata": {},
   "outputs": [
    {
     "name": "stdout",
     "output_type": "stream",
     "text": [
      "**\n",
      "***\n",
      "******\n",
      "*****\n"
     ]
    }
   ],
   "source": [
    "# Your code here\n",
    "def histogram( items ):\n",
    "    for n in items:\n",
    "        output = ''\n",
    "        times = n\n",
    "        while( times > 0 ):\n",
    "          output += '*'\n",
    "          times = times - 1\n",
    "        print(output)\n",
    "\n",
    "histogram([2, 3, 6, 5])"
   ]
  }
 ],
 "metadata": {
  "kernelspec": {
   "display_name": ".venv",
   "language": "python",
   "name": "python3"
  },
  "language_info": {
   "codemirror_mode": {
    "name": "ipython",
    "version": 3
   },
   "file_extension": ".py",
   "mimetype": "text/x-python",
   "name": "python",
   "nbconvert_exporter": "python",
   "pygments_lexer": "ipython3",
   "version": "3.11.5"
  }
 },
 "nbformat": 4,
 "nbformat_minor": 5
}
